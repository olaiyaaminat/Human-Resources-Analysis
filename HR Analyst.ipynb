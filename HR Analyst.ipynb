{
 "cells": [
  {
   "cell_type": "markdown",
   "id": "e55fb663-cd0b-4d31-9003-bd9ef9c2ee98",
   "metadata": {
    "tags": []
   },
   "source": [
    "# DATA PREPROCESSING"
   ]
  },
  {
   "cell_type": "markdown",
   "id": "d46fe7ad-29ea-466c-a465-d4f23b32f390",
   "metadata": {},
   "source": [
    "I IMPORTED LIBRARIES I WOULD BE USING FOR MY CODE EXECUTION"
   ]
  },
  {
   "cell_type": "code",
   "execution_count": 1,
   "id": "9d24a5b8-bdb2-4e01-a628-f524dfafe87a",
   "metadata": {
    "tags": []
   },
   "outputs": [],
   "source": [
    "#import libraries\n",
    "import pandas as pd\n",
    "import seaborn as sns\n",
    "import statistics\n",
    "import matplotlib.pyplot as plt\n",
    "%matplotlib inline"
   ]
  },
  {
   "cell_type": "markdown",
   "id": "a0e736ae-16de-42d0-a1c3-f1c989c65367",
   "metadata": {},
   "source": [
    "\n",
    "\n",
    "Panda provides a data frame that will efficiently help in organizing, cleaning, and manipulating structured data in preparation for analysis. Seaborn and Matplotlib will explore, and display data patterns, informative visualizations and statistics will help in calculating basic statistics."
   ]
  },
  {
   "cell_type": "code",
   "execution_count": 2,
   "id": "1e7ba166-c61c-48e0-8b72-04e4eae0e002",
   "metadata": {
    "tags": []
   },
   "outputs": [],
   "source": [
    "#LOADING MY DATASET TO PANDA DATAFRAME"
   ]
  },
  {
   "cell_type": "code",
   "execution_count": 3,
   "id": "a1b201e3-3dbd-4982-a601-7e4e3be3cb93",
   "metadata": {
    "tags": []
   },
   "outputs": [],
   "source": [
    "#loading dataset\n",
    "\n",
    "data = pd.read_csv('data_Gender pay gap.csv')"
   ]
  },
  {
   "cell_type": "code",
   "execution_count": 4,
   "id": "7811e151-0a49-43a8-9f84-f4379e07c4ae",
   "metadata": {
    "tags": []
   },
   "outputs": [
    {
     "data": {
      "text/html": [
       "<div>\n",
       "<style scoped>\n",
       "    .dataframe tbody tr th:only-of-type {\n",
       "        vertical-align: middle;\n",
       "    }\n",
       "\n",
       "    .dataframe tbody tr th {\n",
       "        vertical-align: top;\n",
       "    }\n",
       "\n",
       "    .dataframe thead th {\n",
       "        text-align: right;\n",
       "    }\n",
       "</style>\n",
       "<table border=\"1\" class=\"dataframe\">\n",
       "  <thead>\n",
       "    <tr style=\"text-align: right;\">\n",
       "      <th></th>\n",
       "      <th>jobTitle</th>\n",
       "      <th>gender</th>\n",
       "      <th>age</th>\n",
       "      <th>perfEval</th>\n",
       "      <th>edu</th>\n",
       "      <th>dept</th>\n",
       "      <th>seniority</th>\n",
       "      <th>basePay</th>\n",
       "      <th>bonus</th>\n",
       "    </tr>\n",
       "  </thead>\n",
       "  <tbody>\n",
       "    <tr>\n",
       "      <th>0</th>\n",
       "      <td>Graphic Designer</td>\n",
       "      <td>Female</td>\n",
       "      <td>18</td>\n",
       "      <td>5</td>\n",
       "      <td>College</td>\n",
       "      <td>Operations</td>\n",
       "      <td>2</td>\n",
       "      <td>42363</td>\n",
       "      <td>9938</td>\n",
       "    </tr>\n",
       "    <tr>\n",
       "      <th>1</th>\n",
       "      <td>Software Engineer</td>\n",
       "      <td>Male</td>\n",
       "      <td>21</td>\n",
       "      <td>5</td>\n",
       "      <td>College</td>\n",
       "      <td>Management</td>\n",
       "      <td>5</td>\n",
       "      <td>108476</td>\n",
       "      <td>11128</td>\n",
       "    </tr>\n",
       "    <tr>\n",
       "      <th>2</th>\n",
       "      <td>Warehouse Associate</td>\n",
       "      <td>Female</td>\n",
       "      <td>19</td>\n",
       "      <td>4</td>\n",
       "      <td>PhD</td>\n",
       "      <td>Administration</td>\n",
       "      <td>5</td>\n",
       "      <td>90208</td>\n",
       "      <td>9268</td>\n",
       "    </tr>\n",
       "    <tr>\n",
       "      <th>3</th>\n",
       "      <td>Software Engineer</td>\n",
       "      <td>Male</td>\n",
       "      <td>20</td>\n",
       "      <td>5</td>\n",
       "      <td>Masters</td>\n",
       "      <td>Sales</td>\n",
       "      <td>4</td>\n",
       "      <td>108080</td>\n",
       "      <td>10154</td>\n",
       "    </tr>\n",
       "    <tr>\n",
       "      <th>4</th>\n",
       "      <td>Graphic Designer</td>\n",
       "      <td>Male</td>\n",
       "      <td>26</td>\n",
       "      <td>5</td>\n",
       "      <td>Masters</td>\n",
       "      <td>Engineering</td>\n",
       "      <td>5</td>\n",
       "      <td>99464</td>\n",
       "      <td>9319</td>\n",
       "    </tr>\n",
       "    <tr>\n",
       "      <th>...</th>\n",
       "      <td>...</td>\n",
       "      <td>...</td>\n",
       "      <td>...</td>\n",
       "      <td>...</td>\n",
       "      <td>...</td>\n",
       "      <td>...</td>\n",
       "      <td>...</td>\n",
       "      <td>...</td>\n",
       "      <td>...</td>\n",
       "    </tr>\n",
       "    <tr>\n",
       "      <th>995</th>\n",
       "      <td>Marketing Associate</td>\n",
       "      <td>Female</td>\n",
       "      <td>61</td>\n",
       "      <td>1</td>\n",
       "      <td>High School</td>\n",
       "      <td>Administration</td>\n",
       "      <td>1</td>\n",
       "      <td>62644</td>\n",
       "      <td>3270</td>\n",
       "    </tr>\n",
       "    <tr>\n",
       "      <th>996</th>\n",
       "      <td>Data Scientist</td>\n",
       "      <td>Male</td>\n",
       "      <td>57</td>\n",
       "      <td>1</td>\n",
       "      <td>Masters</td>\n",
       "      <td>Sales</td>\n",
       "      <td>2</td>\n",
       "      <td>108977</td>\n",
       "      <td>3567</td>\n",
       "    </tr>\n",
       "    <tr>\n",
       "      <th>997</th>\n",
       "      <td>Financial Analyst</td>\n",
       "      <td>Male</td>\n",
       "      <td>48</td>\n",
       "      <td>1</td>\n",
       "      <td>High School</td>\n",
       "      <td>Operations</td>\n",
       "      <td>1</td>\n",
       "      <td>92347</td>\n",
       "      <td>2724</td>\n",
       "    </tr>\n",
       "    <tr>\n",
       "      <th>998</th>\n",
       "      <td>Financial Analyst</td>\n",
       "      <td>Male</td>\n",
       "      <td>65</td>\n",
       "      <td>2</td>\n",
       "      <td>High School</td>\n",
       "      <td>Administration</td>\n",
       "      <td>1</td>\n",
       "      <td>97376</td>\n",
       "      <td>2225</td>\n",
       "    </tr>\n",
       "    <tr>\n",
       "      <th>999</th>\n",
       "      <td>Financial Analyst</td>\n",
       "      <td>Male</td>\n",
       "      <td>60</td>\n",
       "      <td>1</td>\n",
       "      <td>PhD</td>\n",
       "      <td>Sales</td>\n",
       "      <td>2</td>\n",
       "      <td>123108</td>\n",
       "      <td>2244</td>\n",
       "    </tr>\n",
       "  </tbody>\n",
       "</table>\n",
       "<p>1000 rows × 9 columns</p>\n",
       "</div>"
      ],
      "text/plain": [
       "                jobTitle  gender  age  perfEval          edu            dept  \\\n",
       "0       Graphic Designer  Female   18         5      College      Operations   \n",
       "1      Software Engineer    Male   21         5      College      Management   \n",
       "2    Warehouse Associate  Female   19         4          PhD  Administration   \n",
       "3      Software Engineer    Male   20         5      Masters           Sales   \n",
       "4       Graphic Designer    Male   26         5      Masters     Engineering   \n",
       "..                   ...     ...  ...       ...          ...             ...   \n",
       "995  Marketing Associate  Female   61         1  High School  Administration   \n",
       "996       Data Scientist    Male   57         1      Masters           Sales   \n",
       "997    Financial Analyst    Male   48         1  High School      Operations   \n",
       "998    Financial Analyst    Male   65         2  High School  Administration   \n",
       "999    Financial Analyst    Male   60         1          PhD           Sales   \n",
       "\n",
       "     seniority  basePay  bonus  \n",
       "0            2    42363   9938  \n",
       "1            5   108476  11128  \n",
       "2            5    90208   9268  \n",
       "3            4   108080  10154  \n",
       "4            5    99464   9319  \n",
       "..         ...      ...    ...  \n",
       "995          1    62644   3270  \n",
       "996          2   108977   3567  \n",
       "997          1    92347   2724  \n",
       "998          1    97376   2225  \n",
       "999          2   123108   2244  \n",
       "\n",
       "[1000 rows x 9 columns]"
      ]
     },
     "execution_count": 4,
     "metadata": {},
     "output_type": "execute_result"
    }
   ],
   "source": [
    "#HAVING A VIEW OF MY DATASET AND THE NUMBERS OF ROWS AND COLUMNS\n",
    "data"
   ]
  },
  {
   "cell_type": "code",
   "execution_count": 5,
   "id": "c0185c3a-48f8-4aad-8594-6f9263bef078",
   "metadata": {
    "tags": []
   },
   "outputs": [],
   "source": [
    "#Renaming my dataset in multiple column in a list\n",
    "data.rename(columns = {'jobTitle':'Job_Title', 'gender':'Gender', 'age':'Age','perfEval':'Performance_Evaluation',\n",
    "                              'edu':'Education', 'dept':'Department','seniority':'Seniority', \n",
    "                              'basePay':'Base_Pay', 'bonus':'Bonus'}, inplace=True)"
   ]
  },
  {
   "cell_type": "code",
   "execution_count": 6,
   "id": "67c11ff3-b663-4a01-b8c9-4c4bcdda5dcd",
   "metadata": {
    "tags": []
   },
   "outputs": [
    {
     "data": {
      "text/html": [
       "<div>\n",
       "<style scoped>\n",
       "    .dataframe tbody tr th:only-of-type {\n",
       "        vertical-align: middle;\n",
       "    }\n",
       "\n",
       "    .dataframe tbody tr th {\n",
       "        vertical-align: top;\n",
       "    }\n",
       "\n",
       "    .dataframe thead th {\n",
       "        text-align: right;\n",
       "    }\n",
       "</style>\n",
       "<table border=\"1\" class=\"dataframe\">\n",
       "  <thead>\n",
       "    <tr style=\"text-align: right;\">\n",
       "      <th></th>\n",
       "      <th>Job_Title</th>\n",
       "      <th>Gender</th>\n",
       "      <th>Age</th>\n",
       "      <th>Performance_Evaluation</th>\n",
       "      <th>Education</th>\n",
       "      <th>Department</th>\n",
       "      <th>Seniority</th>\n",
       "      <th>Base_Pay</th>\n",
       "      <th>Bonus</th>\n",
       "    </tr>\n",
       "  </thead>\n",
       "  <tbody>\n",
       "    <tr>\n",
       "      <th>0</th>\n",
       "      <td>Graphic Designer</td>\n",
       "      <td>Female</td>\n",
       "      <td>18</td>\n",
       "      <td>5</td>\n",
       "      <td>College</td>\n",
       "      <td>Operations</td>\n",
       "      <td>2</td>\n",
       "      <td>42363</td>\n",
       "      <td>9938</td>\n",
       "    </tr>\n",
       "    <tr>\n",
       "      <th>1</th>\n",
       "      <td>Software Engineer</td>\n",
       "      <td>Male</td>\n",
       "      <td>21</td>\n",
       "      <td>5</td>\n",
       "      <td>College</td>\n",
       "      <td>Management</td>\n",
       "      <td>5</td>\n",
       "      <td>108476</td>\n",
       "      <td>11128</td>\n",
       "    </tr>\n",
       "    <tr>\n",
       "      <th>2</th>\n",
       "      <td>Warehouse Associate</td>\n",
       "      <td>Female</td>\n",
       "      <td>19</td>\n",
       "      <td>4</td>\n",
       "      <td>PhD</td>\n",
       "      <td>Administration</td>\n",
       "      <td>5</td>\n",
       "      <td>90208</td>\n",
       "      <td>9268</td>\n",
       "    </tr>\n",
       "    <tr>\n",
       "      <th>3</th>\n",
       "      <td>Software Engineer</td>\n",
       "      <td>Male</td>\n",
       "      <td>20</td>\n",
       "      <td>5</td>\n",
       "      <td>Masters</td>\n",
       "      <td>Sales</td>\n",
       "      <td>4</td>\n",
       "      <td>108080</td>\n",
       "      <td>10154</td>\n",
       "    </tr>\n",
       "    <tr>\n",
       "      <th>4</th>\n",
       "      <td>Graphic Designer</td>\n",
       "      <td>Male</td>\n",
       "      <td>26</td>\n",
       "      <td>5</td>\n",
       "      <td>Masters</td>\n",
       "      <td>Engineering</td>\n",
       "      <td>5</td>\n",
       "      <td>99464</td>\n",
       "      <td>9319</td>\n",
       "    </tr>\n",
       "  </tbody>\n",
       "</table>\n",
       "</div>"
      ],
      "text/plain": [
       "             Job_Title  Gender  Age  Performance_Evaluation Education  \\\n",
       "0     Graphic Designer  Female   18                       5   College   \n",
       "1    Software Engineer    Male   21                       5   College   \n",
       "2  Warehouse Associate  Female   19                       4       PhD   \n",
       "3    Software Engineer    Male   20                       5   Masters   \n",
       "4     Graphic Designer    Male   26                       5   Masters   \n",
       "\n",
       "       Department  Seniority  Base_Pay  Bonus  \n",
       "0      Operations          2     42363   9938  \n",
       "1      Management          5    108476  11128  \n",
       "2  Administration          5     90208   9268  \n",
       "3           Sales          4    108080  10154  \n",
       "4     Engineering          5     99464   9319  "
      ]
     },
     "execution_count": 6,
     "metadata": {},
     "output_type": "execute_result"
    }
   ],
   "source": [
    "#I am showing the my dataset with the first five rows and headers.[2]\n",
    "data.head()"
   ]
  },
  {
   "cell_type": "code",
   "execution_count": 7,
   "id": "9d2dd2d6-158c-4fc0-bc39-79507300f5e8",
   "metadata": {
    "tags": []
   },
   "outputs": [
    {
     "data": {
      "text/plain": [
       "Job_Title                 False\n",
       "Gender                    False\n",
       "Age                       False\n",
       "Performance_Evaluation    False\n",
       "Education                 False\n",
       "Department                False\n",
       "Seniority                 False\n",
       "Base_Pay                  False\n",
       "Bonus                     False\n",
       "dtype: bool"
      ]
     },
     "execution_count": 7,
     "metadata": {},
     "output_type": "execute_result"
    }
   ],
   "source": [
    "# i am checking with the code if there are null data value in my dataset.\n",
    "data.isnull().any()"
   ]
  },
  {
   "cell_type": "code",
   "execution_count": 8,
   "id": "885cbee4-fabe-40eb-b945-9fac91fd6ee6",
   "metadata": {
    "tags": []
   },
   "outputs": [
    {
     "data": {
      "text/plain": [
       "0      False\n",
       "1      False\n",
       "2      False\n",
       "3      False\n",
       "4      False\n",
       "       ...  \n",
       "995    False\n",
       "996    False\n",
       "997    False\n",
       "998    False\n",
       "999    False\n",
       "Length: 1000, dtype: bool"
      ]
     },
     "execution_count": 8,
     "metadata": {},
     "output_type": "execute_result"
    }
   ],
   "source": [
    "# I am checking for duplicate value in my dataset\n",
    "data.duplicated()"
   ]
  },
  {
   "cell_type": "code",
   "execution_count": 9,
   "id": "9029384f-51bb-4ca3-9a5c-69b50f7d9112",
   "metadata": {
    "tags": []
   },
   "outputs": [],
   "source": [
    "#change data type"
   ]
  },
  {
   "cell_type": "code",
   "execution_count": 10,
   "id": "441c05e0-a843-49c0-b357-62788af5d769",
   "metadata": {
    "tags": []
   },
   "outputs": [
    {
     "data": {
      "text/plain": [
       "Job_Title                 object\n",
       "Gender                    object\n",
       "Age                        int64\n",
       "Performance_Evaluation     int64\n",
       "Education                 object\n",
       "Department                object\n",
       "Seniority                  int64\n",
       "Base_Pay                   int64\n",
       "Bonus                      int64\n",
       "dtype: object"
      ]
     },
     "execution_count": 10,
     "metadata": {},
     "output_type": "execute_result"
    }
   ],
   "source": [
    "# i want to know the data type for each atrributes.\n",
    "data.dtypes"
   ]
  },
  {
   "cell_type": "markdown",
   "id": "0d4e8ac0-0365-47d6-b1b4-579bae83702d",
   "metadata": {},
   "source": [
    "# TASK 1"
   ]
  },
  {
   "cell_type": "markdown",
   "id": "e6bea4d5-7dc3-41f5-bc57-d9946bae8ea5",
   "metadata": {},
   "source": [
    "# MEAN"
   ]
  },
  {
   "cell_type": "markdown",
   "id": "b8bccef9-280d-4005-94c0-c3d42547313c",
   "metadata": {},
   "source": [
    "Mean Age of Employees"
   ]
  },
  {
   "cell_type": "code",
   "execution_count": 11,
   "id": "7b4f6cc8-52f8-49ad-8108-ac107228616f",
   "metadata": {
    "tags": []
   },
   "outputs": [
    {
     "name": "stdout",
     "output_type": "stream",
     "text": [
      "Mean Age: 41.393\n"
     ]
    }
   ],
   "source": [
    "\n",
    "# i am finding the mean age of the employees\n",
    "mean_age = data['Age'].mean()\n",
    "#printing the result\n",
    "print(\"Mean Age:\", mean_age)"
   ]
  },
  {
   "cell_type": "markdown",
   "id": "22a26dbd-ac9e-40fd-beac-e98e9224bc20",
   "metadata": {},
   "source": [
    "Mean Performance Evaluation of Employees"
   ]
  },
  {
   "cell_type": "code",
   "execution_count": 12,
   "id": "cdb6a980-5ed4-40cc-bcc0-c3e341ce99da",
   "metadata": {
    "tags": []
   },
   "outputs": [
    {
     "name": "stdout",
     "output_type": "stream",
     "text": [
      "Mean Performance Evaluation: 3.037\n"
     ]
    }
   ],
   "source": [
    "\n",
    "# i am finding the mean performance evaluation of the employees\n",
    "mean_performace_evaluation = data['Performance_Evaluation'].mean()\n",
    "\n",
    "#printing the result\n",
    "print(\"Mean Performance Evaluation:\", mean_performace_evaluation)"
   ]
  },
  {
   "cell_type": "markdown",
   "id": "b0c1592a-5469-486b-87e6-da1ee341c835",
   "metadata": {},
   "source": [
    "Mean Base Pay of Employees"
   ]
  },
  {
   "cell_type": "code",
   "execution_count": 13,
   "id": "ac8a7dcc-f40a-4fbf-a8b1-5b93e932625f",
   "metadata": {
    "tags": []
   },
   "outputs": [
    {
     "name": "stdout",
     "output_type": "stream",
     "text": [
      "Mean Base Pay: 94472.653\n"
     ]
    }
   ],
   "source": [
    "\n",
    "# i am finding the mean Base pay of the employees\n",
    "mean_base_pay = data['Base_Pay'].mean()\n",
    "#printing the result\n",
    "print(\"Mean Base Pay:\", mean_base_pay)"
   ]
  },
  {
   "cell_type": "markdown",
   "id": "818b5aa5-1535-4f38-8282-655e7060768f",
   "metadata": {
    "tags": []
   },
   "source": [
    "Mean Bonus of Employees"
   ]
  },
  {
   "cell_type": "code",
   "execution_count": 14,
   "id": "29e6671e-3053-451e-a892-89296cdb4d1b",
   "metadata": {
    "tags": []
   },
   "outputs": [
    {
     "name": "stdout",
     "output_type": "stream",
     "text": [
      "Mean Bonus: 6467.161\n"
     ]
    }
   ],
   "source": [
    "\n",
    "# i am finding the mean bonus of the employees\n",
    "mean_bonus = data['Bonus'].mean()\n",
    "#printing the result\n",
    "print(\"Mean Bonus:\",mean_bonus)"
   ]
  },
  {
   "cell_type": "markdown",
   "id": "3d98b7a8-7424-4576-9bcc-d0a3383fe8ae",
   "metadata": {},
   "source": [
    "Mean base pay of employee in each department."
   ]
  },
  {
   "cell_type": "code",
   "execution_count": 15,
   "id": "91e9fb52-49ce-46ea-9130-1a9e4d969f6b",
   "metadata": {
    "tags": []
   },
   "outputs": [
    {
     "name": "stdout",
     "output_type": "stream",
     "text": [
      "Department\n",
      "Administration    91692.025907\n",
      "Engineering       96492.552083\n",
      "Management        96492.974747\n",
      "Operations        90072.823810\n",
      "Sales             97722.801932\n",
      "Name: Base_Pay, dtype: float64\n"
     ]
    }
   ],
   "source": [
    "# i am finding the mean base pay of employee by department using the groupby function.[6]\n",
    "mean_base_pay_per_department = data.groupby('Department')['Base_Pay'].mean()\n",
    "\n",
    "#printing the result\n",
    "print(mean_base_pay_per_department)"
   ]
  },
  {
   "cell_type": "markdown",
   "id": "02bafe52-92ea-4a4a-a8f9-1d1410bdf16e",
   "metadata": {},
   "source": [
    "Mean age of employees by their gender"
   ]
  },
  {
   "cell_type": "code",
   "execution_count": 16,
   "id": "80ff3c2a-3ae7-4d4e-a050-b2a4a2e6812b",
   "metadata": {
    "tags": []
   },
   "outputs": [
    {
     "name": "stdout",
     "output_type": "stream",
     "text": [
      "Gender\n",
      "Female    41.829060\n",
      "Male      41.009398\n",
      "Name: Age, dtype: float64\n"
     ]
    }
   ],
   "source": [
    "# i am finding the mean age of employee by gender using the groupby function.[6]\n",
    "mean_age_per_gender = data.groupby('Gender')['Age'].mean()\n",
    "\n",
    "#printing the result\n",
    "print(mean_age_per_gender)"
   ]
  },
  {
   "cell_type": "markdown",
   "id": "5cd303f0-13fe-4e92-ae16-0764a87306b3",
   "metadata": {
    "tags": []
   },
   "source": [
    "Mean bonus of employee by education."
   ]
  },
  {
   "cell_type": "code",
   "execution_count": 17,
   "id": "dadf16ce-5a81-4f0f-8afd-2b497e88b256",
   "metadata": {
    "tags": []
   },
   "outputs": [
    {
     "name": "stdout",
     "output_type": "stream",
     "text": [
      "Education\n",
      "College        6546.186722\n",
      "High School    6139.128302\n",
      "Masters        6462.699219\n",
      "PhD            6757.184874\n",
      "Name: Bonus, dtype: float64\n"
     ]
    }
   ],
   "source": [
    "# i am finding the mean bonus of employee by education using the groupby function.[6]\n",
    "mean_bonus_per_education = data.groupby('Education')['Bonus'].mean()\n",
    "\n",
    "#printing the result\n",
    "print(mean_bonus_per_education)"
   ]
  },
  {
   "cell_type": "markdown",
   "id": "e75aa1ee-7173-4411-83e7-d954c3dd47c4",
   "metadata": {},
   "source": [
    "Mean age of employee in each department."
   ]
  },
  {
   "cell_type": "code",
   "execution_count": 18,
   "id": "a7e12d08-6232-48ac-a82f-ec6568c4e1ac",
   "metadata": {
    "tags": []
   },
   "outputs": [
    {
     "name": "stdout",
     "output_type": "stream",
     "text": [
      "Department\n",
      "Administration    40.844560\n",
      "Engineering       40.557292\n",
      "Management        41.242424\n",
      "Operations        41.438095\n",
      "Sales             42.777778\n",
      "Name: Age, dtype: float64\n"
     ]
    }
   ],
   "source": [
    "# i am finding the mean age of employee by department using the groupby function.[6]\n",
    "mean_age_per_dept = data.groupby('Department')['Age'].mean()\n",
    "\n",
    "#printing the result\n",
    "print(mean_age_per_dept)"
   ]
  },
  {
   "cell_type": "markdown",
   "id": "0c3d3ab7-6e01-4ac7-95d6-59958cf33d72",
   "metadata": {},
   "source": [
    "# MEDIAN"
   ]
  },
  {
   "cell_type": "markdown",
   "id": "680052a4-d820-43a2-936c-7afece2ca29b",
   "metadata": {},
   "source": [
    "Median Age of Employees"
   ]
  },
  {
   "cell_type": "code",
   "execution_count": 19,
   "id": "eb308a6a-1bb2-4351-a02e-085771eb9463",
   "metadata": {},
   "outputs": [
    {
     "name": "stdout",
     "output_type": "stream",
     "text": [
      "Median Age of Employee: 41.0\n"
     ]
    }
   ],
   "source": [
    "\n",
    "# i am finding the median age of the employees\n",
    "median_age = data['Age'].median()\n",
    "\n",
    "#printing the result\n",
    "print(\"Median Age of Employee:\", median_age)"
   ]
  },
  {
   "cell_type": "markdown",
   "id": "1983ff62-e932-4f20-87db-a380704033f6",
   "metadata": {},
   "source": [
    "Median  Basepay of Employees"
   ]
  },
  {
   "cell_type": "code",
   "execution_count": 20,
   "id": "44b4bd18-9a5d-423b-aa89-2cd44d05262f",
   "metadata": {},
   "outputs": [
    {
     "name": "stdout",
     "output_type": "stream",
     "text": [
      "Median Basepay of Employee: 93327.5\n"
     ]
    }
   ],
   "source": [
    "\n",
    "# i am finding the median Basepay of the employees\n",
    "median_base_pay = data['Base_Pay'].median()\n",
    "\n",
    "#printing the result\n",
    "print(\"Median Basepay of Employee:\",median_base_pay)"
   ]
  },
  {
   "cell_type": "markdown",
   "id": "f0e2dfdf-960b-4ab4-92e1-7220aa4ee90a",
   "metadata": {},
   "source": [
    "Median Seniority of Employees"
   ]
  },
  {
   "cell_type": "code",
   "execution_count": 21,
   "id": "f3ac3b52-dc8c-45e1-bbcd-4638b6331897",
   "metadata": {
    "tags": []
   },
   "outputs": [
    {
     "name": "stdout",
     "output_type": "stream",
     "text": [
      "Median Seniority of Employee: 3.0\n"
     ]
    }
   ],
   "source": [
    "\n",
    "# i am finding the median Seniority of the employees\n",
    "median_seniority = data['Seniority'].median()\n",
    "\n",
    "#printing the result\n",
    "print(\"Median Seniority of Employee:\",median_seniority)"
   ]
  },
  {
   "cell_type": "markdown",
   "id": "f5d66dc9-eb68-46a6-95d8-605a38ac5fb3",
   "metadata": {},
   "source": [
    "Median Bonus of Employees"
   ]
  },
  {
   "cell_type": "code",
   "execution_count": 22,
   "id": "d0986238-5e9d-4bf6-ad40-43ef03bbda09",
   "metadata": {
    "tags": []
   },
   "outputs": [
    {
     "name": "stdout",
     "output_type": "stream",
     "text": [
      "Median Bonus of Employee: 6507.0\n"
     ]
    }
   ],
   "source": [
    "\n",
    "# i am finding the median Bonus of the employees\n",
    "median_bonus = data['Bonus'].median()\n",
    "\n",
    "#printing the result\n",
    "print(\"Median Bonus of Employee:\",median_bonus)"
   ]
  },
  {
   "cell_type": "markdown",
   "id": "27fe3ef4-8d82-4f8a-9197-a5fe1eb18e81",
   "metadata": {
    "tags": []
   },
   "source": [
    "# MODE"
   ]
  },
  {
   "cell_type": "markdown",
   "id": "2185ea5d-1102-4bcf-a85f-bb7761cfa410",
   "metadata": {},
   "source": [
    "Mode of Job Titles"
   ]
  },
  {
   "cell_type": "code",
   "execution_count": 23,
   "id": "cae9fb66-c663-4e06-9784-f9c42a4f3a6d",
   "metadata": {
    "tags": []
   },
   "outputs": [
    {
     "name": "stdout",
     "output_type": "stream",
     "text": [
      "Mode of Job Titles: Marketing Associate\n"
     ]
    }
   ],
   "source": [
    "# i am finding the mode of employees job title. [7]\n",
    "mode_job_title = statistics.mode(data['Job_Title'])\n",
    "\n",
    "#printing the output\n",
    "print(\"Mode of Job Titles:\",mode_job_title)"
   ]
  },
  {
   "cell_type": "markdown",
   "id": "704d27eb-f79b-47c1-b8f0-a53b30c26d3d",
   "metadata": {},
   "source": [
    "Mode of Departments"
   ]
  },
  {
   "cell_type": "code",
   "execution_count": 24,
   "id": "e6646765-bbe2-4f9e-92c2-03c77a7adeb4",
   "metadata": {
    "tags": []
   },
   "outputs": [
    {
     "name": "stdout",
     "output_type": "stream",
     "text": [
      "Mode of Departments: Operations\n"
     ]
    }
   ],
   "source": [
    "# i am finding the mode of employees department. [7]\n",
    "mode_dept = statistics.mode(data['Department'])\n",
    "\n",
    "#printing the output\n",
    "print(\"Mode of Departments:\",mode_dept)"
   ]
  },
  {
   "cell_type": "markdown",
   "id": "e09f4bad-ff6c-48da-87e4-06dd02fa1ed3",
   "metadata": {
    "tags": []
   },
   "source": [
    "Mode of Education Levels\n"
   ]
  },
  {
   "cell_type": "code",
   "execution_count": 25,
   "id": "5647ceaa-0a6e-44e6-9e9a-61df9ff701f6",
   "metadata": {
    "tags": []
   },
   "outputs": [
    {
     "name": "stdout",
     "output_type": "stream",
     "text": [
      "Mode of Education Levels: High School\n"
     ]
    }
   ],
   "source": [
    "# i am finding the mode of employees education. [7]\n",
    "mode_edu = statistics.mode(data['Education'])\n",
    "\n",
    "#printing the output\n",
    "print(\"Mode of Education Levels:\",mode_edu)"
   ]
  },
  {
   "cell_type": "markdown",
   "id": "ffad0846-a395-40c2-950c-eb5a032794ad",
   "metadata": {},
   "source": [
    "Mode of Gender"
   ]
  },
  {
   "cell_type": "code",
   "execution_count": 26,
   "id": "651bd6de-872b-4e50-b852-1bf2985be4be",
   "metadata": {
    "tags": []
   },
   "outputs": [
    {
     "name": "stdout",
     "output_type": "stream",
     "text": [
      "Mode of Gender: Male\n"
     ]
    }
   ],
   "source": [
    "# i am finding the mode of employees gender. [7]\n",
    "mode_gender = statistics.mode(data['Gender'])\n",
    "\n",
    "#printing the output\n",
    "print(\"Mode of Gender:\",mode_gender)"
   ]
  },
  {
   "cell_type": "markdown",
   "id": "58f3a891-54f9-437d-92e8-5e3eb595c78a",
   "metadata": {},
   "source": [
    "Mode of Performance Evaluation"
   ]
  },
  {
   "cell_type": "code",
   "execution_count": 27,
   "id": "d7ac93c1-35be-4d0a-873e-0026119da3e9",
   "metadata": {
    "tags": []
   },
   "outputs": [
    {
     "name": "stdout",
     "output_type": "stream",
     "text": [
      "Mode of Performnace Evaluation: 5\n"
     ]
    }
   ],
   "source": [
    "# i am finding the mode of employees performance evaluation. [7]\n",
    "mode_perfEval = statistics.mode(data['Performance_Evaluation'])\n",
    "\n",
    "#printing the output\n",
    "print(\"Mode of Performnace Evaluation:\",mode_perfEval)"
   ]
  },
  {
   "cell_type": "markdown",
   "id": "c8cd2633-64bf-42f9-8beb-4f3e1d89ab80",
   "metadata": {},
   "source": [
    "# TASK 2"
   ]
  },
  {
   "cell_type": "markdown",
   "id": "289f54fd-f4d7-43a0-b295-2376ca546e02",
   "metadata": {},
   "source": [
    "# RANGE"
   ]
  },
  {
   "cell_type": "markdown",
   "id": "93e4fe65-609e-435a-97d9-e393b09e23cf",
   "metadata": {},
   "source": [
    "RANGE OF EMPLOYEES AGE"
   ]
  },
  {
   "cell_type": "code",
   "execution_count": 28,
   "id": "a5b0d044-0102-4ae1-b40e-4ffea10b78db",
   "metadata": {
    "tags": []
   },
   "outputs": [
    {
     "name": "stdout",
     "output_type": "stream",
     "text": [
      "Range of Age of Employees: 47\n"
     ]
    }
   ],
   "source": [
    "# i am finding the range of employees age. [8]\n",
    "range_age = data['Age'].max() - data['Age'].min()\n",
    "\n",
    "#printing the output\n",
    "print(\"Range of Age of Employees:\",range_age)"
   ]
  },
  {
   "cell_type": "markdown",
   "id": "9319317e-4785-4baf-975b-9e62c52a3379",
   "metadata": {},
   "source": [
    "RANGE OF EMPLOYEES BONUS"
   ]
  },
  {
   "cell_type": "code",
   "execution_count": 29,
   "id": "113b7ecc-2c76-453f-9392-d3229b546287",
   "metadata": {
    "tags": []
   },
   "outputs": [
    {
     "name": "stdout",
     "output_type": "stream",
     "text": [
      "Range of Employees Bonus: 9590\n"
     ]
    }
   ],
   "source": [
    "# i am finding the range of employees bonus [8]\n",
    "range_bonus = data['Bonus'].max() - data['Bonus'].min()\n",
    "\n",
    "#printing the output\n",
    "print(\"Range of Employees Bonus:\",range_bonus)"
   ]
  },
  {
   "cell_type": "markdown",
   "id": "562db0ba-90db-4cf8-81bf-21809a901d54",
   "metadata": {},
   "source": [
    "RANGE OF EMPLOYEES BASE PAY"
   ]
  },
  {
   "cell_type": "code",
   "execution_count": 30,
   "id": "69951d54-b189-422d-846f-da19bd90ef2d",
   "metadata": {
    "tags": []
   },
   "outputs": [
    {
     "name": "stdout",
     "output_type": "stream",
     "text": [
      "Range of Employees Basepay: 145518\n"
     ]
    }
   ],
   "source": [
    "# i am finding the range of employees base pay [8]\n",
    "range_base_pay = data['Base_Pay'].max() - data['Base_Pay'].min()\n",
    "\n",
    "#printing the output\n",
    "print(\"Range of Employees Basepay:\",range_base_pay)"
   ]
  },
  {
   "cell_type": "markdown",
   "id": "75d0b2db-66e9-4427-b14b-d31c84b50bf6",
   "metadata": {},
   "source": [
    "RANGE OF EMPLOYEES SENIORITY"
   ]
  },
  {
   "cell_type": "code",
   "execution_count": 31,
   "id": "d9facae9-a874-4d94-9cce-47cc17baeafb",
   "metadata": {
    "tags": []
   },
   "outputs": [
    {
     "name": "stdout",
     "output_type": "stream",
     "text": [
      "Range of Employees Seniority 4\n"
     ]
    }
   ],
   "source": [
    "# i am finding the range of employees seniority [8]\n",
    "range_seniority = data['Seniority'].max() - data['Seniority'].min()\n",
    "\n",
    "#printing the output\n",
    "print(\"Range of Employees Seniority\",range_seniority)"
   ]
  },
  {
   "cell_type": "markdown",
   "id": "ae105dea-ba65-4dc4-b79e-b00d324e214d",
   "metadata": {},
   "source": [
    "RANGE OF AGE OF EMPLOYEE BY DEPARTMENT"
   ]
  },
  {
   "cell_type": "code",
   "execution_count": 32,
   "id": "77c65f90-8c67-4fa1-9688-dc4afbd9f9f6",
   "metadata": {
    "tags": []
   },
   "outputs": [
    {
     "name": "stdout",
     "output_type": "stream",
     "text": [
      "Range of Ages by Department Department\n",
      "Administration    47\n",
      "Engineering       47\n",
      "Management        47\n",
      "Operations        47\n",
      "Sales             47\n",
      "Name: Age, dtype: int64\n"
     ]
    }
   ],
   "source": [
    "# i am finding the range of department of employee by age using the groupby function [9]\n",
    "range_age_by_dept = data.groupby('Department')['Age'].apply(lambda x: max(x) - min(x))\n",
    "\n",
    "#printing the output\n",
    "print(\"Range of Ages by Department\",range_age_by_dept)"
   ]
  },
  {
   "cell_type": "markdown",
   "id": "7d45dc5a-e865-419d-83af-23675f29a0bd",
   "metadata": {
    "tags": []
   },
   "source": [
    "VISUALIZATION OF RANGE AGE BY DEPARMENT"
   ]
  },
  {
   "cell_type": "code",
   "execution_count": 33,
   "id": "fbbf737e-2bc8-4000-94fa-29cf893cc11b",
   "metadata": {
    "tags": []
   },
   "outputs": [
    {
     "data": {
      "image/png": "[encoded data removed]",
      "text/plain": [
       "<Figure size 800x600 with 1 Axes>"
      ]
     },
     "metadata": {},
     "output_type": "display_data"
    }
   ],
   "source": [
    " i visualize the range.\n",
    "# Plotting a bar chart for the range of ages by department.\n",
    "\n",
    "# setting the figure size for the plot to be 8 inches in width and 6 inches in height.\n",
    "plt.figure(figsize=(8, 6))\n",
    "\n",
    "#i want to plot bar chart with the dataframe range_age_by_dept, with departments on the x axis and range of ages \n",
    "#on the y axis. i also set the colour of the bars to maroon.\n",
    "range_age_by_dept.plot(kind='bar', color='maroon')\n",
    "\n",
    "#setting the title of the plot as Range of Ages by Department\n",
    "plt.title('Range of Ages by Department')\n",
    "\n",
    "#setting the label for x axis as Department\n",
    "plt.xlabel('Department')\n",
    "\n",
    "#setting the label for y axis as Range\n",
    "plt.ylabel('Range')\n",
    "\n",
    "#To improve readability i set the x axis label to 45 degeree\n",
    "plt.xticks(rotation=45)\n",
    "\n",
    "#i adjust the subplots to fit in the parameters\n",
    "plt.tight_layout()\n",
    "\n",
    "# I then displayed the bar chart\n",
    "plt.show()"
   ]
  },
  {
   "cell_type": "markdown",
   "id": "37cda8ad-a3fb-4b13-b776-01b80fbfa50b",
   "metadata": {},
   "source": [
    "# VARIANCE"
   ]
  },
  {
   "cell_type": "markdown",
   "id": "8abf746a-2499-4542-9542-600df1819400",
   "metadata": {},
   "source": [
    "VARIANCE OF SENIORITY EMPLOYEE"
   ]
  },
  {
   "cell_type": "code",
   "execution_count": 34,
   "id": "1cfc18df-22e4-4042-881f-98e765d0d977",
   "metadata": {
    "tags": []
   },
   "outputs": [
    {
     "name": "stdout",
     "output_type": "stream",
     "text": [
      "Variance of seniority employee 1.9461051051051323\n"
     ]
    }
   ],
   "source": [
    "# i am finding the variance of seriority employees \n",
    "variance_seniority = data['Seniority'].var()\n",
    "\n",
    "#print result\n",
    "print(\"Variance of seniority employee\",variance_seniority)"
   ]
  },
  {
   "cell_type": "markdown",
   "id": "c76ea1c4-9b0d-4d73-b565-868c85581cd0",
   "metadata": {},
   "source": [
    "VARIANCE OF  EMPLOYEE PERFORMANCE"
   ]
  },
  {
   "cell_type": "code",
   "execution_count": 35,
   "id": "a121029b-5a83-4a55-945a-d5b8cc4cbe5b",
   "metadata": {
    "tags": []
   },
   "outputs": [
    {
     "name": "stdout",
     "output_type": "stream",
     "text": [
      "Variance of employees Performance 2.027658658658644\n"
     ]
    }
   ],
   "source": [
    "# i am finding the variance of employess performance \n",
    "variance_perf_eval = data['Performance_Evaluation'].var()\n",
    "\n",
    "#print result\n",
    "print(\"Variance of employees Performance\",variance_perf_eval)"
   ]
  },
  {
   "cell_type": "markdown",
   "id": "09c28be8-c7f1-48f1-8087-595439ce119d",
   "metadata": {},
   "source": [
    "VARIANCE OF EMPLOYEES AGE"
   ]
  },
  {
   "cell_type": "code",
   "execution_count": 36,
   "id": "48a3b4ec-b368-486e-b76a-dc419b9fa913",
   "metadata": {
    "tags": []
   },
   "outputs": [
    {
     "name": "stdout",
     "output_type": "stream",
     "text": [
      "Variance of employees Age 204.3428938938925\n"
     ]
    }
   ],
   "source": [
    "# i am finding the variance of employees \n",
    "variance_age = data['Age'].var()\n",
    "\n",
    "#print result\n",
    "print(\"Variance of employees Age\",variance_age)"
   ]
  },
  {
   "cell_type": "markdown",
   "id": "53552141-abe4-48d4-a7f0-9c041543bf67",
   "metadata": {},
   "source": [
    "VARIANCE OF EMPLOYEE BASE PAY "
   ]
  },
  {
   "cell_type": "code",
   "execution_count": 37,
   "id": "5563d3db-fc33-4504-ba42-af8dd6d69410",
   "metadata": {
    "tags": []
   },
   "outputs": [
    {
     "name": "stdout",
     "output_type": "stream",
     "text": [
      "Variance of employees Base Pay  641988565.313904\n"
     ]
    }
   ],
   "source": [
    "# i am finding the variance of employees base pay \n",
    "variance_base_pay = data['Base_Pay'].var()\n",
    "\n",
    "#print result\n",
    "print(\"Variance of employees Base Pay \",variance_base_pay)"
   ]
  },
  {
   "cell_type": "markdown",
   "id": "ac7a0cba-334c-4004-97a5-3c9911bcc0c8",
   "metadata": {},
   "source": [
    "VARIANCE OF EMPLOYEE BONUS."
   ]
  },
  {
   "cell_type": "code",
   "execution_count": 38,
   "id": "bb99737b-077c-4361-80f9-920d346280a7",
   "metadata": {
    "tags": []
   },
   "outputs": [
    {
     "name": "stdout",
     "output_type": "stream",
     "text": [
      "Variance of employees bonus 4017528.6196986963\n"
     ]
    }
   ],
   "source": [
    "# i am finding the variance of employees bonus \n",
    "variance_bonus = data['Bonus'].var()\n",
    "\n",
    "#print result\n",
    "print(\"Variance of employees bonus\",variance_bonus)"
   ]
  },
  {
   "cell_type": "markdown",
   "id": "ef68d4a3-d5a2-47e2-b6f7-15db90842afa",
   "metadata": {},
   "source": [
    "VARIANCE OF EMPLOYEE DEPARTMENT BY AGE"
   ]
  },
  {
   "cell_type": "code",
   "execution_count": 39,
   "id": "34675566-f0db-4d8d-a6c0-8ff7e5d8a9a2",
   "metadata": {
    "tags": []
   },
   "outputs": [
    {
     "name": "stdout",
     "output_type": "stream",
     "text": [
      "Variance of Age by Department Department\n",
      "Administration    191.923629\n",
      "Engineering       201.221831\n",
      "Management        183.656668\n",
      "Operations        211.855001\n",
      "Sales             232.057174\n",
      "Name: Age, dtype: float64\n"
     ]
    }
   ],
   "source": [
    "# i am finding the variance of employees department by age using the groupby function \n",
    "# Calculate variance of 'age' grouped by 'dept'\n",
    "variance_age_by_dept = data.groupby('Department')['Age'].var()\n",
    "\n",
    "#print result\n",
    "print(\"Variance of Age by Department\",variance_age_by_dept)"
   ]
  },
  {
   "cell_type": "markdown",
   "id": "4db7a3a7-bfd9-48d0-83ec-f41c7148c8c0",
   "metadata": {},
   "source": [
    "VISUALIZATION OF VARIANCE AGE BY DEPARMENT"
   ]
  },
  {
   "cell_type": "code",
   "execution_count": 40,
   "id": "02d18162-71c7-430d-90e7-87e71eeddab3",
   "metadata": {
    "tags": []
   },
   "outputs": [
    {
     "data": {
      "image/png": "[encoded data removed]",
      "text/plain": [
       "<Figure size 800x600 with 1 Axes>"
      ]
     },
     "metadata": {},
     "output_type": "display_data"
    }
   ],
   "source": [
    "#  i visualize the variance.\n",
    "# Plotting a bar chart for the variance of ages by department.\n",
    "\n",
    "# setting the figure size for the plot to be 8 inches in width and 6 inches in height.\n",
    "plt.figure(figsize=(8, 6))\n",
    "\n",
    "#i want to plot bar chart with the dataframe range_age_by_dept, with departments on the x axis and range of ages \n",
    "#on the y axis. i also set the colour of the bars to salmon.\n",
    "variance_age_by_dept.plot(kind='bar', color='salmon')\n",
    "\n",
    "#setting the title of the plot as Variance of Ages by Department\n",
    "plt.title('Variance of Ages by Department')\n",
    "\n",
    "#setting the label for x axis as Department\n",
    "plt.xlabel('Department')\n",
    "\n",
    "#setting the label for y axis as Range\n",
    "plt.ylabel('Variance')\n",
    "\n",
    "#To improve readability i set the x axis label to 45 degeree\n",
    "plt.xticks(rotation=45)\n",
    "\n",
    "#i adjust the subplots to fit in the parameters\n",
    "plt.tight_layout()\n",
    "\n",
    "# I then displayed the bar chart\n",
    "plt.show()"
   ]
  },
  {
   "cell_type": "markdown",
   "id": "c32503ac-686b-4131-97de-8a00c322d68c",
   "metadata": {},
   "source": [
    "# STANDARD DEVIATION"
   ]
  },
  {
   "cell_type": "markdown",
   "id": "a93f9515-1d8c-4604-84b3-cd1e029a3a25",
   "metadata": {},
   "source": [
    "STANDARD DEVIATION OF AGE"
   ]
  },
  {
   "cell_type": "code",
   "execution_count": 41,
   "id": "e8516e61-b349-4450-83c8-d89cfcfe00e1",
   "metadata": {
    "tags": []
   },
   "outputs": [
    {
     "name": "stdout",
     "output_type": "stream",
     "text": [
      "Standard Deviation of  Employees Age 14.294855504477564\n"
     ]
    }
   ],
   "source": [
    "# i am finding the Standard deviation of employees age \n",
    "std_dev_age = data['Age'].std()\n",
    "\n",
    "#print result\n",
    "print(\"Standard Deviation of  Employees Age\",std_dev_age)"
   ]
  },
  {
   "cell_type": "markdown",
   "id": "ed8b92e6-66fa-4f08-a5bc-751ca9ddedf6",
   "metadata": {},
   "source": [
    "STANDARD DEVIATION OF BASE PAY"
   ]
  },
  {
   "cell_type": "code",
   "execution_count": 42,
   "id": "e3108edc-ca9c-4d43-8173-be842ecc9210",
   "metadata": {
    "tags": []
   },
   "outputs": [
    {
     "name": "stdout",
     "output_type": "stream",
     "text": [
      "Standard Deviation of Employees Base Pay 25337.493272103773\n"
     ]
    }
   ],
   "source": [
    "# i am finding the Standard deviation of employees base pay \n",
    "std_dev_base_pay = data['Base_Pay'].std()\n",
    "\n",
    "#print result\n",
    "print(\"Standard Deviation of Employees Base Pay\",std_dev_base_pay)"
   ]
  },
  {
   "cell_type": "markdown",
   "id": "4522a091-a419-450f-99b4-57e5bb6abc42",
   "metadata": {},
   "source": [
    "STANDARD DEVIATION OF EMPLOYEES BONUS"
   ]
  },
  {
   "cell_type": "code",
   "execution_count": 43,
   "id": "59be94d6-ac63-4e99-b7f8-4ebc41d1d17d",
   "metadata": {
    "tags": []
   },
   "outputs": [
    {
     "name": "stdout",
     "output_type": "stream",
     "text": [
      "Standard Deviation of Employees Bonus 2004.377364594476\n"
     ]
    }
   ],
   "source": [
    "# i am finding the Standard deviation of employees bonus \n",
    "std_dev_bonus = data['Bonus'].std()\n",
    "\n",
    "#print result\n",
    "print(\"Standard Deviation of Employees Bonus\",std_dev_bonus)"
   ]
  },
  {
   "cell_type": "markdown",
   "id": "94c897af-398b-4817-a43c-8035f2fb0946",
   "metadata": {},
   "source": [
    "STANDARD DEVIATION OF EMPLOYEES SENIORITY"
   ]
  },
  {
   "cell_type": "code",
   "execution_count": 44,
   "id": "2cd15ca0-2322-432e-901f-a3b8da0c58ff",
   "metadata": {
    "tags": []
   },
   "outputs": [
    {
     "name": "stdout",
     "output_type": "stream",
     "text": [
      "Standard Deviation of Employees Seniority 1.3950287112117559\n"
     ]
    }
   ],
   "source": [
    "# i am finding the Standard deviation of employees seniority \n",
    "std_dev_seniority = data['Seniority'].std()\n",
    "\n",
    "#print result\n",
    "print(\"Standard Deviation of Employees Seniority\",std_dev_seniority)"
   ]
  },
  {
   "cell_type": "markdown",
   "id": "4e133547-2a4c-4e52-8c01-dcfc61b6cca4",
   "metadata": {},
   "source": [
    "STANDARD DEVIATION OF EMPLOYEES PERFORMANCE EVALUATION"
   ]
  },
  {
   "cell_type": "code",
   "execution_count": 45,
   "id": "dec3bcaa-0b72-405d-ad9c-4be47c6fa67d",
   "metadata": {
    "tags": []
   },
   "outputs": [
    {
     "name": "stdout",
     "output_type": "stream",
     "text": [
      "Standard Deviation of Employees Performance Evaluation 1.423958798090255\n"
     ]
    }
   ],
   "source": [
    "# i am finding the Standard deviation of employees performance \n",
    "std_dev_perf_eval = data['Performance_Evaluation'].std()\n",
    "\n",
    "#print result\n",
    "print(\"Standard Deviation of Employees Performance Evaluation\",std_dev_perf_eval)"
   ]
  },
  {
   "cell_type": "code",
   "execution_count": 46,
   "id": "fac4d9d1-28c7-44eb-b797-d4b9709e3913",
   "metadata": {
    "tags": []
   },
   "outputs": [
    {
     "name": "stdout",
     "output_type": "stream",
     "text": [
      "Standard Deviation of Age by Department Department\n",
      "Administration    13.853650\n",
      "Engineering       14.185268\n",
      "Management        13.551999\n",
      "Operations        14.555240\n",
      "Sales             15.233423\n",
      "Name: Age, dtype: float64\n"
     ]
    }
   ],
   "source": [
    " # i am finding the standard deviation of employees department by age using the groupby function \n",
    "    #Calculate standard deviation of 'age' grouped by 'dept'\n",
    "std_dev_age_by_dept = data.groupby('Department')['Age'].std()\n",
    "\n",
    "#print result\n",
    "print(\"Standard Deviation of Age by Department\",std_dev_age_by_dept)"
   ]
  },
  {
   "cell_type": "markdown",
   "id": "d9d7343b-711a-4ca5-a570-250b593678cd",
   "metadata": {},
   "source": [
    "VISUALIZATION OF STANDARD DEVIATION AGE BY DEPARMENT"
   ]
  },
  {
   "cell_type": "code",
   "execution_count": 47,
   "id": "4f3131e9-e87c-4e1d-a8dc-3f58a4d2af0e",
   "metadata": {
    "tags": []
   },
   "outputs": [
    {
     "data": {
      "image/png": "[encoded data removed]",
      "text/plain": [
       "<Figure size 800x600 with 1 Axes>"
      ]
     },
     "metadata": {},
     "output_type": "display_data"
    }
   ],
   "source": [
    "# i visualize the variance.\n",
    "# Plotting a bar chart for the standard deviation of ages by department.\n",
    "\n",
    "# setting the figure size for the plot to be 8 inches in width and 6 inches in height.\n",
    "plt.figure(figsize=(8, 6))\n",
    "\n",
    "#i want to plot bar chart with the dataframe range_age_by_dept, with departments on the x axis and range of ages \n",
    "#on the y axis. i also set the colour of the bars to lightgreen.\n",
    "std_dev_age_by_dept.plot(kind='bar', color='lightgreen')\n",
    "\n",
    "#setting the title of the plot as Variance of Ages by Department\n",
    "plt.title('Standard Deviation of Ages by Department')\n",
    "\n",
    "#setting the label for x axis as Department\n",
    "plt.xlabel('Department')\n",
    "\n",
    "#setting the label for y axis as Range\n",
    "plt.ylabel('Standard Deviation')\n",
    "\n",
    "#To improve readability i set the x axis label to 45 degeree\n",
    "plt.xticks(rotation=45)\n",
    "\n",
    "#i adjust the subplots to fit in the parameters\n",
    "plt.tight_layout()\n",
    "\n",
    "# I then displayed the bar chart\n",
    "plt.show()"
   ]
  },
  {
   "cell_type": "markdown",
   "id": "5b471460-27b6-402c-a6e2-2ef078033cba",
   "metadata": {},
   "source": [
    "# TASK 3"
   ]
  },
  {
   "cell_type": "markdown",
   "id": "bb29b07f-fe38-4311-9c2f-e1fe011b59a4",
   "metadata": {},
   "source": [
    "# PROBABILITY MASS FUNCTION"
   ]
  },
  {
   "cell_type": "code",
   "execution_count": 48,
   "id": "b68fd92c-f8c4-4a3f-954f-eb374979422d",
   "metadata": {},
   "outputs": [
    {
     "name": "stdout",
     "output_type": "stream",
     "text": [
      "Performance_Evaluation\n",
      "1    0.198\n",
      "2    0.192\n",
      "3    0.194\n",
      "4    0.207\n",
      "5    0.209\n",
      "Name: proportion, dtype: float64\n"
     ]
    }
   ],
   "source": [
    "# Calculate PMF for 'perfEval'\n",
    "# i extracted the performance evaluation data from the dataset,then computes the frequency of each valuein performance\n",
    "#evaluation column and the relative frequency of each value and then arrange the result in ascending order.\n",
    "\n",
    "perfEval_frequency = data['Performance_Evaluation'].value_counts(normalize=True).sort_index()\n",
    "\n",
    "\n",
    "#calculating the probability of each value using PMF\n",
    "pmf_perfEval = perfEval_frequency/perfEval_frequency.sum()\n",
    "\n",
    "#print the output\n",
    "print(pmf_perfEval)\n"
   ]
  },
  {
   "cell_type": "code",
   "execution_count": 49,
   "id": "b967a166-b0e0-4ec4-a282-6def954eb240",
   "metadata": {},
   "outputs": [
    {
     "data": {
      "image/png": "[encoded data removed]",
      "text/plain": [
       "<Figure size 640x480 with 1 Axes>"
      ]
     },
     "metadata": {},
     "output_type": "display_data"
    }
   ],
   "source": [
    "#visualization of the PMF for perfomance evaluation using a bar chart.\n",
    "#setting the x axis the unique value and y axis the bar height respectively\n",
    "\n",
    "plt.bar(pmf_perfEval.index, pmf_perfEval.values)\n",
    "\n",
    "#set the label for x axis as Performance Evaluation\n",
    "plt.xlabel('Performance Evaluation')\n",
    "\n",
    "#set the label for y axis as Probability\n",
    "plt.ylabel('Probability')\n",
    "\n",
    "#provided a descriptive title for the visualization by setting a title\n",
    "#Probability Mass Function for Performance Evaluation\n",
    "plt.title('Probability Mass Function for Performance Evaluation')\n",
    "\n",
    "#Specifies the tick locations on the x-axis based on the unique values of 'Performance Evaluation.\n",
    "plt.xticks(pmf_perfEval.index)\n",
    "\n",
    "#Displays the bar plot representing the PMF for the 'Performance Evaluation' attribute.\n",
    "plt.show()"
   ]
  },
  {
   "cell_type": "markdown",
   "id": "01dbb484-5baa-4c85-a968-95506a34aa17",
   "metadata": {},
   "source": [
    "# TASK 4"
   ]
  },
  {
   "cell_type": "markdown",
   "id": "9d87b79c-2525-448e-b5a3-f4c58090c937",
   "metadata": {},
   "source": [
    "# PROBABILITY DENSITY FUNCTION"
   ]
  },
  {
   "cell_type": "code",
   "execution_count": 50,
   "id": "6cbb525a-1ded-494f-acfd-c22256bf4002",
   "metadata": {
    "tags": []
   },
   "outputs": [
    {
     "name": "stdout",
     "output_type": "stream",
     "text": [
      "The median base pay is 93327.5\n"
     ]
    }
   ],
   "source": [
    "# Calculate median for 'basePay'\n",
    "median_base_pay = data['Base_Pay'].median()\n",
    "\n",
    "#print the result\n",
    "print(\"The median base pay is\", median_base_pay)"
   ]
  },
  {
   "cell_type": "markdown",
   "id": "f647d385-00a7-4f61-8c8f-66d129ea3754",
   "metadata": {},
   "source": [
    "I generated the probability density function for the base pay attribute by calculating the relative frequencies \n",
    "of different basepay values showing the likelihood of occurence of each basepay value in the dataset."
   ]
  },
  {
   "cell_type": "code",
   "execution_count": 51,
   "id": "32736def-0e17-4d6b-be87-1ea683b860ea",
   "metadata": {
    "tags": []
   },
   "outputs": [
    {
     "name": "stdout",
     "output_type": "stream",
     "text": [
      "Base_Pay\n",
      "77584     0.002\n",
      "62753     0.002\n",
      "99543     0.002\n",
      "77793     0.002\n",
      "125770    0.002\n",
      "          ...  \n",
      "143887    0.001\n",
      "130720    0.001\n",
      "86675     0.001\n",
      "56954     0.001\n",
      "123108    0.001\n",
      "Name: proportion, Length: 992, dtype: float64\n"
     ]
    }
   ],
   "source": [
    "# Calculate PDF for 'basepay'\n",
    "# i extracted the base pay data from the dataset,then computes the frequency of each value in the base pay \n",
    "#column and the relative frequency of each value and then arrange the result in ascending order.\n",
    "Basepay_pdf = data['Base_Pay'].value_counts(normalize=True) #.sort_index()\n",
    "\n",
    "#print the result\n",
    "print(Basepay_pdf )"
   ]
  },
  {
   "cell_type": "code",
   "execution_count": 52,
   "id": "529d9f96-b4d3-4a2b-a5d2-67b64a2fa7bc",
   "metadata": {
    "tags": []
   },
   "outputs": [
    {
     "name": "stdout",
     "output_type": "stream",
     "text": [
      "count      1000.000000\n",
      "mean      94472.653000\n",
      "std       25337.493272\n",
      "min       34208.000000\n",
      "25%       76850.250000\n",
      "50%       93327.500000\n",
      "75%      111558.000000\n",
      "max      179726.000000\n",
      "Name: Base_Pay, dtype: float64\n"
     ]
    }
   ],
   "source": [
    "#summarize the statistics of base pay\n",
    "summary_stats_basePay = data['Base_Pay'].describe()\n",
    "\n",
    "#print the result\n",
    "print(summary_stats_basePay)"
   ]
  },
  {
   "cell_type": "markdown",
   "id": "b81546a2-bc37-49a8-9584-739d4ad99e37",
   "metadata": {
    "tags": []
   },
   "source": [
    "Visualization of the PDF basePay attribute."
   ]
  },
  {
   "cell_type": "code",
   "execution_count": 53,
   "id": "08e4d2d7-ec16-4edf-8cfa-afe234d7a47f",
   "metadata": {
    "tags": []
   },
   "outputs": [
    {
     "data": {
      "image/png": "[encoded data removed]",
      "text/plain": [
       "<Figure size 640x480 with 1 Axes>"
      ]
     },
     "metadata": {},
     "output_type": "display_data"
    }
   ],
   "source": [
    "#Generating a combined visualization of histogram and KDE plot(Kernel density estimation) for the base pay attributes\n",
    "#I used seaborn histplot function to estimate the pdf of basepay.\n",
    "\n",
    "sns.histplot(data['Base_Pay'], kde=True, stat='density', bins=20)\n",
    "\n",
    "#set the label for x axis as Base Pay.\n",
    "plt.xlabel('Base Pay')\n",
    "\n",
    "#set the label for y axis as Probability Density.\n",
    "plt.ylabel('Probability Density')\n",
    "\n",
    "#provided a descriptive title for the visualization by setting a title Probability Density Function for Base Pay\n",
    "plt.title('Probability Density Function for Base Pay')\n",
    "\n",
    "#Displays the chart representing the PDF for 'Base Pay' attribute.\n",
    "plt.show()"
   ]
  }
 ],
 "metadata": {
  "kernelspec": {
   "display_name": "Python 3 (ipykernel)",
   "language": "python",
   "name": "python3"
  },
  "language_info": {
   "codemirror_mode": {
    "name": "ipython",
    "version": 3
   },
   "file_extension": ".py",
   "mimetype": "text/x-python",
   "name": "python",
   "nbconvert_exporter": "python",
   "pygments_lexer": "ipython3",
   "version": "3.11.7"
  }
 },
 "nbformat": 4,
 "nbformat_minor": 5
}
